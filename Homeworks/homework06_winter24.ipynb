{
 "cells": [
  {
   "cell_type": "markdown",
   "metadata": {
    "id": "U6CDHYedCVN2"
   },
   "source": [
    "# Homework 6: Hypothesis Testing and Confidence Intervals  (50 points)\n",
    "\n"
   ]
  },
  {
   "cell_type": "markdown",
   "metadata": {
    "id": "cV4ujs8W0Pyc"
   },
   "source": [
    "Please complete this notebook by filling in the cells provided.\n",
    "\n",
    "The solved homework should be uploaded to Gradescope as an .ipynb file. DO NOT put your answers in more than one file or use a different file extension.\n",
    "\n",
    "**<u>Deadline</u>**:\n",
    "\n",
    "This assignment is due on **Friday, February 23** at **11:59pm**. Late work will not be accepted unless it follows the specific policy of the instructor.\n",
    "\n",
    "- Directly sharing answers is not okay, but discussing problems with the course staff or with other students is encouraged.\n",
    "\n",
    "- You should start early so that you have time to get help if you're stuck.\n",
    "\n",
    "- Submit your homework 30-60 minutes to ensure that it will upload before the deadline.\n",
    "\n",
    "- Please run all of your code cells and ensure all of your answers are outputted and visible to graders.\n",
    "\n",
    "- Check the file preview on Gradescope to make sure all of your answers are visible.\n",
    "\n",
    "- Be mindful of your file sizes. Do not print out entire large datasets use .head or .tail instead. Make sure your document is visible in the Gradescope preview.\n",
    "\n",
    "- Your functions should have a docstring. Points may be taken off for not including a docstring.\n",
    "\n",
    "- Your graphs should be labeled with a title, x-label, and y-label and be otherwise readable. Intervals on x- and y-axises should make sense for the data. If these items are missing, points may be taken off."
   ]
  },
  {
   "cell_type": "code",
   "execution_count": 1,
   "metadata": {
    "id": "yegbh6zA0PPP"
   },
   "outputs": [],
   "source": [
    "# Don't change this cell; just run it.\n",
    "\n",
    "import numpy as np\n",
    "import pandas as pd\n",
    "\n",
    "%matplotlib inline\n",
    "import matplotlib.pyplot as plt\n",
    "plt.style.use('fivethirtyeight')\n",
    "import warnings\n",
    "warnings.simplefilter('ignore', FutureWarning)"
   ]
  },
  {
   "cell_type": "markdown",
   "metadata": {
    "id": "VMFErTofIlLk"
   },
   "source": [
    "## 1. How Many Devices? (7 points) ##\n",
    "\n",
    "When a company produces medical devices, it must be sure that its devices will not fail.  Sampling is used ubiquitously in the medical device industry to test how well devices work.\n",
    "\n",
    "Suppose you work at a company that produces syringes, and you are responsible for ensuring the syringes work well.  After studying the manufacturing process for the syringes, you have a hunch that they have a 2% failure rate.  That is, you suspect that 2% of the syringes won't work when a doctor uses them to inject a patient with medicine.\n",
    "\n",
    "To test your hunch, you would like to find at least one faulty syringe.  You hire an expert consultant who can test a syringe to check whether it is faulty.  But the expert's time is expensive, so you need to avoid checking more syringes than you need to.\n",
    "\n",
    "**Important note:** This exercise asks you to compute numbers that are related to probabilities.  For all questions, you can calculate your answer using algebra, **or** you can write and run a simulation to compute an approximately-correct answer (we encourage you to try both).  An answer based on an appropriate simulation will receive full credit.  If you simulate, use at least **10,000** trials. An answer based on algebra, should contain some explanation on how the calculation was done.\n"
   ]
  },
  {
   "cell_type": "markdown",
   "metadata": {
    "id": "dvsaagBSLsvl"
   },
   "source": [
    "**Question 1. (2pts)** Suppose there is indeed a 2% failure rate among all syringes.  If you check 50 syringes chosen at random from among all syringes, what is the chance that you find at least 1 faulty syringe? Name your answer `chance_to_find_syringe`. And display the numerical value you get as an answer. *Hint: first decide what probability distribution this situation follows*"
   ]
  },
  {
   "cell_type": "code",
   "execution_count": 3,
   "metadata": {
    "id": "4EdtdODAIlLk"
   },
   "outputs": [
    {
     "name": "stdout",
     "output_type": "stream",
     "text": [
      "The probability you find at least 1 faulty syringe out of 50 chosen at random is 0.6358303199128832\n"
     ]
    }
   ],
   "source": [
    "# Algebra\n",
    "prob_zero_faulty = 1 * (0.02 ** 0) * (0.98 ** 50) \n",
    "# number of trials (n = 50) choose k (0) x probability of success (p = 0.02) \n",
    "# raised to the k x 1 - p (0.98) to the n - k (50)\n",
    "chance_to_find_syringe_algebra = 1 - prob_zero_faulty\n",
    "\n",
    "print(f\"The probability you find at least 1 faulty syringe out of 50 chosen at random is {chance_to_find_syringe_algebra}\")\n"
   ]
  },
  {
   "cell_type": "code",
   "execution_count": 4,
   "metadata": {},
   "outputs": [
    {
     "name": "stdout",
     "output_type": "stream",
     "text": [
      "The probability you find at least 1 faulty syringe out of 50 chosen at random is 0.6476\n"
     ]
    }
   ],
   "source": [
    "# Simulation\n",
    "faulty_syringes = np.random.binomial(50, 0.02, 10000)\n",
    "\n",
    "chance_to_find_syringe_sim = np.mean(faulty_syringes > 0)\n",
    "\n",
    "print(f\"The probability you find at least 1 faulty syringe out of 50 chosen at random is {chance_to_find_syringe_sim}\")\n"
   ]
  },
  {
   "cell_type": "markdown",
   "metadata": {
    "id": "MhzRdU9rIlLl"
   },
   "source": [
    "*Answer here*"
   ]
  },
  {
   "cell_type": "markdown",
   "metadata": {
    "id": "LBbfXeqmIlLl"
   },
   "source": [
    "**Question 2. (3pts)** Continue to assume that there really is a 2% failure rate. Find the smallest number of syringes you can check so that you have at least a 75% chance of finding a faulty syringe (your answer should be an integer).  Name that number `num_required_for_75_percent`.  **If you use simulation, it's okay if your answer is off by as many as 5 for full credit.**"
   ]
  },
  {
   "cell_type": "code",
   "execution_count": 12,
   "metadata": {
    "id": "GCHsvyoNIlLl"
   },
   "outputs": [
    {
     "data": {
      "text/plain": [
       "69"
      ]
     },
     "execution_count": 12,
     "metadata": {},
     "output_type": "execute_result"
    }
   ],
   "source": [
    "target_prob = 0.75\n",
    "current_prob = 0\n",
    "syringes = 0  \n",
    "while current_prob < target_prob:\n",
    "    syringes += 1\n",
    "    prob_no_faulty = 0.98 ** syringes \n",
    "    current_prob = 1 - prob_no_faulty\n",
    "\n",
    "num_required_for_75_percent = syringes\n",
    "num_required_for_75_percent"
   ]
  },
  {
   "cell_type": "markdown",
   "metadata": {
    "id": "KK-5HRIHIlLl"
   },
   "source": [
    "*Answer here*"
   ]
  },
  {
   "cell_type": "markdown",
   "metadata": {
    "id": "G4sFHaMTIlLm"
   },
   "source": [
    "**Question 3. (2pts)** A doctor purchased 10 syringes and found 3 of them to be faulty. Assuming that there is indeed a 2% failure rate, what was the probability of **exactly 3** out of 10 syringes being faulty?"
   ]
  },
  {
   "cell_type": "code",
   "execution_count": 14,
   "metadata": {
    "id": "LZR5dForIlLm"
   },
   "outputs": [
    {
     "data": {
      "text/plain": [
       "0.0008334005119168512"
      ]
     },
     "execution_count": 14,
     "metadata": {},
     "output_type": "execute_result"
    }
   ],
   "source": [
    "p_success = 0.02\n",
    "k_successes = 3\n",
    "n_trials = 10\n",
    "\n",
    "prob_three_faulty = (np.math.comb(n_trials, k_successes) *\n",
    "                              (p_success ** k_successes) *\n",
    "                              ((1 - p_success) ** (n_trials - k_successes)))\n",
    "\n",
    "prob_three_faulty"
   ]
  },
  {
   "cell_type": "markdown",
   "metadata": {
    "id": "b6dwc8ZUIlLm"
   },
   "source": [
    "*Answer here*"
   ]
  },
  {
   "cell_type": "markdown",
   "metadata": {
    "id": "yoVjz-GPeAvm"
   },
   "source": [
    "## 2. Birth weight data (23 points)\n",
    "\n",
    "For this question we will use a dataset that contains the following variables for 1,174 mother-baby pairs: the baby’s birth weight in ounces, the number of gestational days, the mother’s age in completed years, the mother’s height in inches, pregnancy weight in pounds, and whether or not the mother smoked during pregnancy.  The code to read the data is in the next cell, and the data file is on Canvas.\n"
   ]
  },
  {
   "cell_type": "code",
   "execution_count": 16,
   "metadata": {
    "colab": {
     "base_uri": "https://localhost:8080/",
     "height": 265
    },
    "id": "AHuBR74teAvm",
    "outputId": "8c7db680-e604-4c25-f278-e38c741bf391"
   },
   "outputs": [
    {
     "name": "stdout",
     "output_type": "stream",
     "text": [
      "(1174, 6)\n"
     ]
    },
    {
     "data": {
      "text/html": [
       "<div>\n",
       "<style scoped>\n",
       "    .dataframe tbody tr th:only-of-type {\n",
       "        vertical-align: middle;\n",
       "    }\n",
       "\n",
       "    .dataframe tbody tr th {\n",
       "        vertical-align: top;\n",
       "    }\n",
       "\n",
       "    .dataframe thead th {\n",
       "        text-align: right;\n",
       "    }\n",
       "</style>\n",
       "<table border=\"1\" class=\"dataframe\">\n",
       "  <thead>\n",
       "    <tr style=\"text-align: right;\">\n",
       "      <th></th>\n",
       "      <th>Birth Weight</th>\n",
       "      <th>Gestational Days</th>\n",
       "      <th>Maternal Age</th>\n",
       "      <th>Maternal Height</th>\n",
       "      <th>Maternal Pregnancy Weight</th>\n",
       "      <th>Maternal Smoker</th>\n",
       "    </tr>\n",
       "  </thead>\n",
       "  <tbody>\n",
       "    <tr>\n",
       "      <th>0</th>\n",
       "      <td>120</td>\n",
       "      <td>284</td>\n",
       "      <td>27</td>\n",
       "      <td>62</td>\n",
       "      <td>100</td>\n",
       "      <td>False</td>\n",
       "    </tr>\n",
       "    <tr>\n",
       "      <th>1</th>\n",
       "      <td>113</td>\n",
       "      <td>282</td>\n",
       "      <td>33</td>\n",
       "      <td>64</td>\n",
       "      <td>135</td>\n",
       "      <td>False</td>\n",
       "    </tr>\n",
       "    <tr>\n",
       "      <th>2</th>\n",
       "      <td>128</td>\n",
       "      <td>279</td>\n",
       "      <td>28</td>\n",
       "      <td>64</td>\n",
       "      <td>115</td>\n",
       "      <td>True</td>\n",
       "    </tr>\n",
       "    <tr>\n",
       "      <th>3</th>\n",
       "      <td>108</td>\n",
       "      <td>282</td>\n",
       "      <td>23</td>\n",
       "      <td>67</td>\n",
       "      <td>125</td>\n",
       "      <td>True</td>\n",
       "    </tr>\n",
       "    <tr>\n",
       "      <th>4</th>\n",
       "      <td>136</td>\n",
       "      <td>286</td>\n",
       "      <td>25</td>\n",
       "      <td>62</td>\n",
       "      <td>93</td>\n",
       "      <td>False</td>\n",
       "    </tr>\n",
       "  </tbody>\n",
       "</table>\n",
       "</div>"
      ],
      "text/plain": [
       "   Birth Weight  Gestational Days  Maternal Age  Maternal Height  \\\n",
       "0           120               284            27               62   \n",
       "1           113               282            33               64   \n",
       "2           128               279            28               64   \n",
       "3           108               282            23               67   \n",
       "4           136               286            25               62   \n",
       "\n",
       "   Maternal Pregnancy Weight  Maternal Smoker  \n",
       "0                        100            False  \n",
       "1                        135            False  \n",
       "2                        115             True  \n",
       "3                        125             True  \n",
       "4                         93            False  "
      ]
     },
     "execution_count": 16,
     "metadata": {},
     "output_type": "execute_result"
    }
   ],
   "source": [
    "baby_df = pd.read_csv('../data/baby.csv')\n",
    "print(baby_df.shape)\n",
    "baby_df.head(5)"
   ]
  },
  {
   "cell_type": "markdown",
   "metadata": {
    "id": "cwKUFjpteAvm"
   },
   "source": [
    "Body Mass Index (BMI) is a person’s weight in kilograms divided by the square of height in meters.  BMI can be used to screen for weight categories that may lead to health problems but it is not diagnostic of the health of an individual. It is becoming a less useful measure by itself: [CNet news on BMI](https://www.cnet.com/health/nutrition/your-bmi-doesnt-matter-as-much-as-you-think-heres-why/)\n",
    "\n",
    "Here we will investigate differences in BMI between mothers who smoked and did not."
   ]
  },
  {
   "cell_type": "markdown",
   "metadata": {
    "id": "mOgVGz2WMUAL"
   },
   "source": [
    "**Question 4. (2 pts)** Calculate the BMI for the mothers in this dataset and save it in a variable called `bmi`"
   ]
  },
  {
   "cell_type": "code",
   "execution_count": 19,
   "metadata": {
    "id": "t0pLM7-ieAvn"
   },
   "outputs": [
    {
     "data": {
      "text/html": [
       "<div>\n",
       "<style scoped>\n",
       "    .dataframe tbody tr th:only-of-type {\n",
       "        vertical-align: middle;\n",
       "    }\n",
       "\n",
       "    .dataframe tbody tr th {\n",
       "        vertical-align: top;\n",
       "    }\n",
       "\n",
       "    .dataframe thead th {\n",
       "        text-align: right;\n",
       "    }\n",
       "</style>\n",
       "<table border=\"1\" class=\"dataframe\">\n",
       "  <thead>\n",
       "    <tr style=\"text-align: right;\">\n",
       "      <th></th>\n",
       "      <th>Birth Weight</th>\n",
       "      <th>Gestational Days</th>\n",
       "      <th>Maternal Age</th>\n",
       "      <th>Maternal Height</th>\n",
       "      <th>Maternal Pregnancy Weight</th>\n",
       "      <th>Maternal Smoker</th>\n",
       "      <th>bmi</th>\n",
       "    </tr>\n",
       "  </thead>\n",
       "  <tbody>\n",
       "    <tr>\n",
       "      <th>0</th>\n",
       "      <td>120</td>\n",
       "      <td>284</td>\n",
       "      <td>27</td>\n",
       "      <td>62</td>\n",
       "      <td>100</td>\n",
       "      <td>False</td>\n",
       "      <td>18.290037</td>\n",
       "    </tr>\n",
       "    <tr>\n",
       "      <th>1</th>\n",
       "      <td>113</td>\n",
       "      <td>282</td>\n",
       "      <td>33</td>\n",
       "      <td>64</td>\n",
       "      <td>135</td>\n",
       "      <td>False</td>\n",
       "      <td>23.172440</td>\n",
       "    </tr>\n",
       "    <tr>\n",
       "      <th>2</th>\n",
       "      <td>128</td>\n",
       "      <td>279</td>\n",
       "      <td>28</td>\n",
       "      <td>64</td>\n",
       "      <td>115</td>\n",
       "      <td>True</td>\n",
       "      <td>19.739486</td>\n",
       "    </tr>\n",
       "    <tr>\n",
       "      <th>3</th>\n",
       "      <td>108</td>\n",
       "      <td>282</td>\n",
       "      <td>23</td>\n",
       "      <td>67</td>\n",
       "      <td>125</td>\n",
       "      <td>True</td>\n",
       "      <td>19.577551</td>\n",
       "    </tr>\n",
       "    <tr>\n",
       "      <th>4</th>\n",
       "      <td>136</td>\n",
       "      <td>286</td>\n",
       "      <td>25</td>\n",
       "      <td>62</td>\n",
       "      <td>93</td>\n",
       "      <td>False</td>\n",
       "      <td>17.009734</td>\n",
       "    </tr>\n",
       "    <tr>\n",
       "      <th>5</th>\n",
       "      <td>138</td>\n",
       "      <td>244</td>\n",
       "      <td>33</td>\n",
       "      <td>62</td>\n",
       "      <td>178</td>\n",
       "      <td>False</td>\n",
       "      <td>32.556265</td>\n",
       "    </tr>\n",
       "    <tr>\n",
       "      <th>6</th>\n",
       "      <td>132</td>\n",
       "      <td>245</td>\n",
       "      <td>23</td>\n",
       "      <td>65</td>\n",
       "      <td>140</td>\n",
       "      <td>False</td>\n",
       "      <td>23.296961</td>\n",
       "    </tr>\n",
       "    <tr>\n",
       "      <th>7</th>\n",
       "      <td>120</td>\n",
       "      <td>289</td>\n",
       "      <td>25</td>\n",
       "      <td>62</td>\n",
       "      <td>125</td>\n",
       "      <td>False</td>\n",
       "      <td>22.862546</td>\n",
       "    </tr>\n",
       "    <tr>\n",
       "      <th>8</th>\n",
       "      <td>143</td>\n",
       "      <td>299</td>\n",
       "      <td>30</td>\n",
       "      <td>66</td>\n",
       "      <td>136</td>\n",
       "      <td>True</td>\n",
       "      <td>21.950731</td>\n",
       "    </tr>\n",
       "    <tr>\n",
       "      <th>9</th>\n",
       "      <td>140</td>\n",
       "      <td>351</td>\n",
       "      <td>27</td>\n",
       "      <td>68</td>\n",
       "      <td>120</td>\n",
       "      <td>False</td>\n",
       "      <td>18.245735</td>\n",
       "    </tr>\n",
       "  </tbody>\n",
       "</table>\n",
       "</div>"
      ],
      "text/plain": [
       "   Birth Weight  Gestational Days  Maternal Age  Maternal Height  \\\n",
       "0           120               284            27               62   \n",
       "1           113               282            33               64   \n",
       "2           128               279            28               64   \n",
       "3           108               282            23               67   \n",
       "4           136               286            25               62   \n",
       "5           138               244            33               62   \n",
       "6           132               245            23               65   \n",
       "7           120               289            25               62   \n",
       "8           143               299            30               66   \n",
       "9           140               351            27               68   \n",
       "\n",
       "   Maternal Pregnancy Weight  Maternal Smoker        bmi  \n",
       "0                        100            False  18.290037  \n",
       "1                        135            False  23.172440  \n",
       "2                        115             True  19.739486  \n",
       "3                        125             True  19.577551  \n",
       "4                         93            False  17.009734  \n",
       "5                        178            False  32.556265  \n",
       "6                        140            False  23.296961  \n",
       "7                        125            False  22.862546  \n",
       "8                        136             True  21.950731  \n",
       "9                        120            False  18.245735  "
      ]
     },
     "execution_count": 19,
     "metadata": {},
     "output_type": "execute_result"
    }
   ],
   "source": [
    "pound_to_kg = 0.453592\n",
    "inch_to_m = 0.0254\n",
    "\n",
    "baby_df['bmi'] = ((pound_to_kg * baby_df['Maternal Pregnancy Weight'])/\n",
    "                 ((inch_to_m * baby_df['Maternal Height']) ** 2))\n",
    "\n",
    "baby_df.head(10)\n"
   ]
  },
  {
   "cell_type": "markdown",
   "metadata": {
    "id": "wP0Cx1H8eAvn"
   },
   "source": [
    "**Question 5. (4 pts)** Generate overlapping histograms of mother BMI for smokers and non-smokers. (You should make 2 histograms: one for smokers and one for non-smokers. These should be drawn on the **same plot** so that they overlap.)\n",
    "\n",
    "Hint: Plot non-smokers first.\n",
    "\n",
    "Interpret the plots.\n"
   ]
  },
  {
   "cell_type": "code",
   "execution_count": 24,
   "metadata": {
    "id": "r2DnzdNseAvo"
   },
   "outputs": [
    {
     "data": {
      "image/png": "[encoded data removed]",
      "text/plain": [
       "<Figure size 640x480 with 1 Axes>"
      ]
     },
     "metadata": {},
     "output_type": "display_data"
    }
   ],
   "source": [
    "non_smoker_df = baby_df.loc[baby_df['Maternal Smoker'] == False]['bmi']\n",
    "smoker_df = baby_df.loc[baby_df['Maternal Smoker'] == True]['bmi']\n",
    "\n",
    "plt.hist(non_smoker_df, bins=30, alpha=0.5, label='Non-Smokers')\n",
    "plt.hist(smoker_df, bins=30, alpha=0.5, label='Smokers')\n",
    "\n",
    "plt.xlabel('Mother BMI')\n",
    "plt.ylabel('Frequency')\n",
    "plt.title('Histogram of Mother BMI for Smokers and Non-Smokers')\n",
    "plt.legend()\n",
    "\n",
    "plt.show()\n"
   ]
  },
  {
   "cell_type": "code",
   "execution_count": 30,
   "metadata": {},
   "outputs": [
    {
     "name": "stdout",
     "output_type": "stream",
     "text": [
      "The 'non-smoker' dataframe contains 715 mothers.\n",
      "The 'smoker' data frame contains 459 mothers.\n"
     ]
    }
   ],
   "source": [
    "print(f\"The 'non-smoker' dataframe contains {non_smoker_df.shape[0]} mothers.\")\n",
    "print(f\"The 'smoker' data frame contains {smoker_df.shape[0]} mothers.\")"
   ]
  },
  {
   "cell_type": "markdown",
   "metadata": {
    "id": "ORFFj5YteAvo"
   },
   "source": [
    "*Comment here on the plots:*\n",
    "At face-value, it seems easy to conclude that smoking mothers (in red) generally have a lower BMI than non-smoking mothers (in blue). If you look at the range between around 17 and 25, it's fairly clear that red's maximum frequency is shifted further to the left than blue's. However, it's hard to make any real conclusions about this data as a result of the sample imbalance in each DF: the 'non-smoker' dataframe contains 715 mothers, while the 'smoker' data frame contains 459 mothers.\n"
   ]
  },
  {
   "cell_type": "markdown",
   "metadata": {
    "id": "GoJtzssvJ8-D"
   },
   "source": [
    "**Question 6. (2 pts)** We want to investigate if the distributions of the BMI in mothers who smoke and mothers who do not smoke are the same.\n",
    "\n",
    "Write the null and alternative hypotheses for this investigation based on the graphs you made above."
   ]
  },
  {
   "cell_type": "markdown",
   "metadata": {
    "id": "vGtI99FVKNrn"
   },
   "source": [
    "**Null Hypothesis:** There is no distinction in the BMI distribution among mothers who smoke and those who do not. The variances noted in the histograms stem from chance fluctuations within the sample.\n",
    "\n",
    "**Alternative Hypothesis:** There exists a variance in the BMI distribution between smoking and non-smoking mothers. The distinctions noted in the histograms are not random but signify a genuine differentiation within the populations."
   ]
  },
  {
   "cell_type": "markdown",
   "metadata": {
    "id": "0FFBtrMKeAvp"
   },
   "source": [
    "**Question 7. (4 pts)** We will use first the following test statistic: **the difference in BMI sample means** (between smokers and non-smokers).  \n",
    "\n",
    "Write the code that generates a null distribution for this test statistic (using shuffling/permutations) and calculate the p-value associated with this test statistic.\n"
   ]
  },
  {
   "cell_type": "code",
   "execution_count": 41,
   "metadata": {
    "id": "_Adb4OlJXJZc"
   },
   "outputs": [
    {
     "name": "stdout",
     "output_type": "stream",
     "text": [
      "Observed difference in BMI means: 0.4946699674377548\n",
      "P-value: 0.008\n"
     ]
    }
   ],
   "source": [
    "all_bmi_df = np.concatenate([smoker_df, non_smoker_df])\n",
    "num_permutations = 1000\n",
    "\n",
    "actual_diff_means = non_smoker_df.mean() - \\\n",
    "                      smoker_df.mean()\n",
    "\n",
    "permuted_diffs = np.zeros(num_permutations)\n",
    "\n",
    "for i in range(num_permutations):\n",
    "    np.random.shuffle(all_bmi)\n",
    "    perm_smoker_mean = np.mean(all_bmi[:len(smoker_df)])\n",
    "    perm_non_smoker_mean = np.mean(all_bmi[len(smoker_df):])\n",
    "    permuted_diffs[i] = perm_smoker_mean - perm_non_smoker_mean\n",
    "\n",
    "# Calculate p-value\n",
    "p_value = np.sum(permuted_diffs >= actual_diff_means) / num_permutations\n",
    "\n",
    "print(f\"Observed difference in BMI means: {actual_diff_means}\")\n",
    "print(f\"P-value: {p_value}\")"
   ]
  },
  {
   "cell_type": "markdown",
   "metadata": {
    "id": "sHNDxNvLeAvp"
   },
   "source": [
    "**Question 8. (4 pts)** Repeat what is asked in Question 7 for the following test statistic: **the difference in BMI sample medians**."
   ]
  },
  {
   "cell_type": "code",
   "execution_count": 43,
   "metadata": {
    "id": "wxVyYnzEeAvp"
   },
   "outputs": [
    {
     "name": "stdout",
     "output_type": "stream",
     "text": [
      "Observed difference in BMI medians: 0.4224212549987598\n",
      "P-value: 0.009\n"
     ]
    }
   ],
   "source": [
    "num_permutations = 1000\n",
    "\n",
    "actual_diff_medians = non_smoker_df.median() - \\\n",
    "                      smoker_df.median()\n",
    "\n",
    "permuted_diffs = np.zeros(num_permutations)\n",
    "\n",
    "for i in range(num_permutations):\n",
    "    np.random.shuffle(all_bmi)\n",
    "    perm_smoker_median = np.median(all_bmi[:len(smoker_df)])\n",
    "    perm_non_smoker_median = np.median(all_bmi[len(smoker_df):])\n",
    "    permuted_diffs[i] = perm_smoker_median - perm_non_smoker_median\n",
    "\n",
    "# Calculate p-value\n",
    "p_value = np.sum(permuted_diffs >= actual_diff_medians) / num_permutations\n",
    "\n",
    "print(f\"Observed difference in BMI medians: {actual_diff_medians}\")\n",
    "print(f\"P-value: {p_value}\")"
   ]
  },
  {
   "cell_type": "markdown",
   "metadata": {
    "id": "MiTG0JgxeAvq"
   },
   "source": [
    "**Question 9. (4 pts)** Repeat what is asked in Question 7 for the following test statistic: **the difference in BMI sample standard deviations**."
   ]
  },
  {
   "cell_type": "code",
   "execution_count": 50,
   "metadata": {
    "id": "M5NvC7FreAvq"
   },
   "outputs": [
    {
     "name": "stdout",
     "output_type": "stream",
     "text": [
      "Observed difference in BMI standard deviations: 0.19331575608600948\n",
      "P-value: 0.215\n"
     ]
    }
   ],
   "source": [
    "num_permutations = 1000\n",
    "\n",
    "actual_diff_std = non_smoker_df.std() - \\\n",
    "                      smoker_df.std()\n",
    "\n",
    "permuted_diffs = np.zeros(num_permutations)\n",
    "\n",
    "for i in range(num_permutations):\n",
    "    np.random.shuffle(all_bmi)\n",
    "    perm_smoker_std = np.std(all_bmi[:len(smoker_df)])\n",
    "    perm_non_smoker_std = np.std(all_bmi[len(smoker_df):])\n",
    "    permuted_diffs[i] = perm_smoker_std - perm_non_smoker_std\n",
    "\n",
    "# Calculate p-value\n",
    "p_value = np.sum(permuted_diffs >= actual_diff_std) / num_permutations\n",
    "\n",
    "print(f\"Observed difference in BMI standard deviations: {actual_diff_std}\")\n",
    "print(f\"P-value: {p_value}\")\n"
   ]
  },
  {
   "cell_type": "markdown",
   "metadata": {
    "id": "HfEagHJ1eAvq"
   },
   "source": [
    "**Question 10. (3 pts)** Write a very brief discussion on the interpretation of the 3 p-values you calculated."
   ]
  },
  {
   "cell_type": "markdown",
   "metadata": {
    "id": "tAhgDgdIeAvq"
   },
   "source": [
    "The results of the permutation tests show statistically significant differences in both the mean and median values of BMI between mothers who smoke and those who do not (p-values: 0.008 and 0.009, respectively). This suggests a true influence of smoking status on BMI. However, the elevated p-value for the difference in standard deviation (0.215) indicates that smoking status doesn't notably affect the variability of BMI among the mothers. This emphasizes a distinct impact of smoking on central BMI measures without significantly altering the overall spread of the distribution.\n"
   ]
  },
  {
   "cell_type": "markdown",
   "metadata": {
    "id": "4ceRK0RiMg3m"
   },
   "source": [
    "## 3. Plot the Vote (20 points) ##\n",
    "\n",
    "The presidential election in the US is coming up this year!! Let's celebrate this with a homework question!\n",
    "\n",
    "Four candidates are running for President of Dataland. A polling company surveys 1000 people selected uniformly at random from among voters in Dataland, and it asks each one who they are planning on voting for. After compiling the results, the polling company releases the following proportions from their sample:\n",
    "\n",
    "|Candidate  | Proportion|\n",
    "|:------------:|:------------:|\n",
    "|Candidate A | 0.43 |\n",
    "|Candidate B | 0.35 |\n",
    "|Candidate C | 0.10 |\n",
    "|Candidate D | 0.05 |\n",
    "|Undecided   | 0.07 |\n",
    "\n",
    "These proportions represent a simple random sample of the population of Dataland. We will attempt to estimate the corresponding *population parameters* - the proportions of each kind of voter in the entire population.  We will use confidence intervals to compute a range of values that reflects the uncertainty of our estimate.\n",
    "\n",
    "The table `votes` contains the results of the survey. Candidates are represented by their initials. Undecided voters are denoted by `U`."
   ]
  },
  {
   "cell_type": "code",
   "execution_count": 51,
   "metadata": {
    "id": "eYOUZXdoMg3n",
    "outputId": "0fa528d9-b0ef-443d-c5c7-99151df2099e"
   },
   "outputs": [
    {
     "data": {
      "text/html": [
       "<div>\n",
       "<style scoped>\n",
       "    .dataframe tbody tr th:only-of-type {\n",
       "        vertical-align: middle;\n",
       "    }\n",
       "\n",
       "    .dataframe tbody tr th {\n",
       "        vertical-align: top;\n",
       "    }\n",
       "\n",
       "    .dataframe thead th {\n",
       "        text-align: right;\n",
       "    }\n",
       "</style>\n",
       "<table border=\"1\" class=\"dataframe\">\n",
       "  <thead>\n",
       "    <tr style=\"text-align: right;\">\n",
       "      <th></th>\n",
       "      <th>vote</th>\n",
       "    </tr>\n",
       "  </thead>\n",
       "  <tbody>\n",
       "    <tr>\n",
       "      <th>715</th>\n",
       "      <td>B</td>\n",
       "    </tr>\n",
       "    <tr>\n",
       "      <th>169</th>\n",
       "      <td>A</td>\n",
       "    </tr>\n",
       "    <tr>\n",
       "      <th>302</th>\n",
       "      <td>A</td>\n",
       "    </tr>\n",
       "    <tr>\n",
       "      <th>787</th>\n",
       "      <td>C</td>\n",
       "    </tr>\n",
       "    <tr>\n",
       "      <th>127</th>\n",
       "      <td>A</td>\n",
       "    </tr>\n",
       "  </tbody>\n",
       "</table>\n",
       "</div>"
      ],
      "text/plain": [
       "    vote\n",
       "715    B\n",
       "169    A\n",
       "302    A\n",
       "787    C\n",
       "127    A"
      ]
     },
     "execution_count": 51,
     "metadata": {},
     "output_type": "execute_result"
    }
   ],
   "source": [
    "votes = pd.DataFrame({'vote': np.array(['A']*430 + ['B']*350 + ['C']*100 + ['D']*50 + ['U']*70)})\n",
    "num_votes = len(votes)\n",
    "votes.sample(5,replace=True)"
   ]
  },
  {
   "cell_type": "markdown",
   "metadata": {
    "id": "jkJkUKKJMg3n"
   },
   "source": [
    "Below, we have given you code that will use bootstrapped samples to compute estimates of the true proportion of voters who are planning on voting for **Candidate B**."
   ]
  },
  {
   "cell_type": "code",
   "execution_count": 52,
   "metadata": {
    "id": "H5Ef5lIbMg3n",
    "outputId": "261ef4ad-7b20-4851-86f2-db845cdc3030"
   },
   "outputs": [
    {
     "data": {
      "image/png": "[encoded data removed]",
      "text/plain": [
       "<Figure size 640x480 with 1 Axes>"
      ]
     },
     "metadata": {},
     "output_type": "display_data"
    }
   ],
   "source": [
    "def proportions_in_resamples(nboot):\n",
    "    statistics = np.array([])\n",
    "    for i in np.arange(nboot):\n",
    "        bootstrap = votes.sample(num_votes,replace=True)\n",
    "        sample_statistic = np.count_nonzero(bootstrap.vote == 'B')/num_votes\n",
    "        statistics = np.append(statistics, sample_statistic)\n",
    "    return statistics\n",
    "\n",
    "sampled_proportions = proportions_in_resamples(5000)\n",
    "\n",
    "plt.hist(sampled_proportions,bins=np.arange(0.2,0.55,0.01))\n",
    "plt.title(\"Estimated Proportion - Bootstrap\")\n",
    "plt.show()"
   ]
  },
  {
   "cell_type": "markdown",
   "metadata": {
    "id": "kLp6LwzzMg3n"
   },
   "source": [
    "**Question 11. (6pts)** Using the array `sampled_proportions`, compute a **basic boostrap 98% confidence interval** for the difference in the true and bootstrapped proportions of voters planning on voting for candidate B."
   ]
  },
  {
   "cell_type": "code",
   "execution_count": 53,
   "metadata": {
    "id": "ulYNvwzqMg3n"
   },
   "outputs": [
    {
     "name": "stdout",
     "output_type": "stream",
     "text": [
      "Bootstrapped 98% confidence interval for the proportion of B voters in the population: [0.315000, 0.385010]\n"
     ]
    }
   ],
   "source": [
    "b_lower_bound = np.quantile(sampled_proportions, 0.01)\n",
    "b_upper_bound = np.quantile(sampled_proportions, 0.99)\n",
    "low_ci = b_lower_bound\n",
    "up_ci = b_upper_bound\n",
    "print(\"Bootstrapped 98% confidence interval for the proportion of B voters in the population: [{:f}, {:f}]\".format(low_ci, up_ci))"
   ]
  },
  {
   "cell_type": "markdown",
   "metadata": {
    "id": "1TJVXKV1Mg3o"
   },
   "source": [
    "**Question 12. (6pts)** The survey results seem to indicate that Candidate B is losing to Candidate A among voters. We would like to use CI's to determine a range of likely values for Candidate A's true *lead*. Candidate A's lead over Candidate B is:\n",
    "\n",
    "$$\\text{Candidate A's proportion of the vote} - \\text{Candidate B's proportion of the vote}.$$\n",
    "\n",
    "Using the function `proportions_in_resamples` above as a model, use the bootstrap to compute an approximate distribution for Candidate A's lead over Candidate B. Plot a histogram of the the resulting samples.\n",
    "\n",
    "Also calculate a **95% percentile bootstrap confidence interval** for the difference."
   ]
  },
  {
   "cell_type": "code",
   "execution_count": 78,
   "metadata": {
    "id": "5Hz6kImEMg3o"
   },
   "outputs": [
    {
     "data": {
      "image/png": "[encoded data removed]",
      "text/plain": [
       "<Figure size 640x480 with 1 Axes>"
      ]
     },
     "metadata": {},
     "output_type": "display_data"
    }
   ],
   "source": [
    "# the code for the histogram is here\n",
    "\n",
    "def diff_in_resample_votes(nboot):\n",
    "    '''Calculate the difference in resampled voting statistics using bootstrapping'''\n",
    "    vote_stats = np.array([])\n",
    "    for i in np.arange(nboot):\n",
    "        bootstrap = votes.sample(num_votes,replace=True)\n",
    "        \n",
    "        sample_vote_stat = (np.count_nonzero(bootstrap.vote == 'B')/num_votes)-(np.count_nonzero(bootstrap.vote == 'A')/num_votes)\n",
    "        vote_stats = np.append(vote_stats, sample_vote_stat)\n",
    "    return vote_stats\n",
    "\n",
    "sampled_differences = diff_in_resamples(10000)\n",
    "\n",
    "\n",
    "plt.hist(sampled_differences)\n",
    "plt.title(\"Estimated Diff. Between Candidate A and B Proportions\")\n",
    "\n",
    "plt.show()"
   ]
  },
  {
   "cell_type": "code",
   "execution_count": 80,
   "metadata": {
    "id": "j7TRHMNTMg3o"
   },
   "outputs": [
    {
     "name": "stdout",
     "output_type": "stream",
     "text": [
      "Bootstrapped 95% confidence interval for Candidate A's true lead over Candidate B: [-0.135000, -0.026000]\n"
     ]
    }
   ],
   "source": [
    "# the bootstrap confidence interval\n",
    "diff_lower_bound = np.quantile(sampled_differences, 0.025)\n",
    "diff_upper_bound = np.quantile(sampled_differences, 0.975)\n",
    "print(\"Bootstrapped 95% confidence interval for Candidate A's true lead over Candidate B: [{:f}, {:f}]\".format(diff_lower_bound, diff_upper_bound))"
   ]
  },
  {
   "cell_type": "markdown",
   "metadata": {
    "id": "qinNL_SgMg3o"
   },
   "source": [
    "**Question 13. (3pts)** Interpret the 95% interval you obtained. What does it tell you about the lead Candidate A has?\n",
    "\n",
    "*Answer here:*  The bootstrapped 95% confidence interval for Candidate A's true lead over Candidate B is [-0.135, -0.026]. This interval suggests that we are 95% confident that Candidate A's lead over Candidate B falls within the range of -0.133 to -0.024. Specifically, this indicates that Candidate A is leading over Candidate B by at least 0.024 and at most 0.133. This implies that, based on the data and the method of estimation, Candidate A's lead is substantial and likely to persist. However, it's essential to acknowledge that there is still uncertainty associated with the estimation, and the actual lead may vary within this interval."
   ]
  },
  {
   "cell_type": "markdown",
   "metadata": {
    "id": "8cyzx0FJXJZg"
   },
   "source": [
    "\n"
   ]
  },
  {
   "cell_type": "code",
   "execution_count": null,
   "metadata": {
    "id": "muzvRJURXJZh"
   },
   "outputs": [],
   "source": []
  },
  {
   "cell_type": "markdown",
   "metadata": {
    "id": "Zjvhrq7YMg3o"
   },
   "source": [
    "**Question 14. (3pts)** Suppose your friend computes the following 99% confidence interval for the proportion of Candidate B voters:\n",
    "\n",
    "$$[.41, .49]$$\n",
    "\n",
    "(If you do this yourself, your answer might be different; that doesn't mean it is wrong.)"
   ]
  },
  {
   "cell_type": "markdown",
   "metadata": {
    "id": "sZIfbDKnMg3o"
   },
   "source": [
    "Can we say that 99% of the population lies in the range $[.41, .49]$? Explain your answer."
   ]
  },
  {
   "cell_type": "markdown",
   "metadata": {
    "id": "xEnNqBiUMg3o"
   },
   "source": [
    "No, we cannot say that 99% of the population lies in the range [.41, .49] based solely on the 99% confidence interval computed by my friend. The 99% confidence interval [.41, .49] means that if we were to take multiple samples from the population and compute confidence intervals for the proportion of Candidate B voters using each sample, approximately 99% of those intervals would contain the true proportion of Candidate B voters in the population. However, the 99% confidence level refers to the likelihood that the procedure used to construct the interval will produce intervals containing the true population proportion in 99% of such intervals. It does not directly imply a statement about the proportion of the population itself. \n"
   ]
  },
  {
   "cell_type": "markdown",
   "metadata": {
    "id": "8J5F4Io-Mg3o"
   },
   "source": [
    "**Question 15. (2pts)** Suppose we produced 10,000 new samples (each one a uniform random sample of 1,000 voters) and created a 99% confidence interval from each one. Roughly how many of those 10,000 intervals do you expect will actually contain the true proportion of the population?"
   ]
  },
  {
   "cell_type": "markdown",
   "metadata": {
    "id": "9jYVV1GgMg3o"
   },
   "source": [
    "If we were to generate 10,000 new samples, each consisting of 1,000 voters selected uniformly at random, and then construct a 99% confidence interval from each sample, we would anticipate that approximately 9,900 of these 10,000 intervals would encompass the true proportion of the population. This anticipation stems from the definition of a confidence interval, wherein a 99% confidence level indicates that if numerous samples were taken and confidence intervals were calculated from each, roughly 99% of those intervals would capture the true population parameter. Consequently, out of 10,000 such confidence intervals, around 99%, or 9,900 of them, are projected to contain the true proportion of voters for any given candidate or outcome within the population of Dataland."
   ]
  },
  {
   "cell_type": "code",
   "execution_count": null,
   "metadata": {
    "id": "T3WBtPKEXJZi"
   },
   "outputs": [],
   "source": []
  }
 ],
 "metadata": {
  "colab": {
   "provenance": []
  },
  "kernelspec": {
   "display_name": "Python 3 (ipykernel)",
   "language": "python",
   "name": "python3"
  },
  "language_info": {
   "codemirror_mode": {
    "name": "ipython",
    "version": 3
   },
   "file_extension": ".py",
   "mimetype": "text/x-python",
   "name": "python",
   "nbconvert_exporter": "python",
   "pygments_lexer": "ipython3",
   "version": "3.11.5"
  }
 },
 "nbformat": 4,
 "nbformat_minor": 1
}
